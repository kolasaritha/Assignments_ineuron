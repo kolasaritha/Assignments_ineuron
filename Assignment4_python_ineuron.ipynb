{
 "cells": [
  {
   "cell_type": "markdown",
   "metadata": {},
   "source": [
    "##### Q1.1-: Write a Python Program(with class concepts) to find the area of the triangle using the below formula.area = (s(s-a)(s-b)*(s-c)) ** 0.5. Function to take the length of the sides of triangle from user should be defined in the parent class and function to calculate the area should be defined in subclass."
   ]
  },
  {
   "cell_type": "code",
   "execution_count": 6,
   "metadata": {},
   "outputs": [
    {
     "name": "stdout",
     "output_type": "stream",
     "text": [
      "Enter the first side of a triangle: 3\n",
      "Enter the second side of a triangle: 5\n",
      "Enter the third side of a triangle: 7\n",
      "The area of the triangle is  6.49519052838329\n"
     ]
    }
   ],
   "source": [
    "import sys\n",
    "import math\n",
    " \n",
    "a = int(input('Enter the first side of a triangle: '))\n",
    "b = int(input('Enter the second side of a triangle: '))\n",
    "c = int(input('Enter the third side of a triangle: '))\n",
    "\n",
    "class triangle():\n",
    "   def __init__(self,a,b,c):\n",
    "       self.a = a\n",
    "       self.b = b\n",
    "       self.c = c\n",
    "   def area(self):\n",
    "       s=(a + b + c)/2\n",
    "       area=math.sqrt(s*(s-a)*(s-b)*(s-c))\n",
    "       return area\n",
    "t = triangle(a, b, c)\n",
    "print(\"The area of the triangle is \",t.area())\n"
   ]
  },
  {
   "cell_type": "markdown",
   "metadata": {},
   "source": [
    "#### Q1.2 Write a function filter_long_words() that takes a list of words and an integer n and returns the list of words that are longer than n"
   ]
  },
  {
   "cell_type": "code",
   "execution_count": 7,
   "metadata": {},
   "outputs": [
    {
     "name": "stdout",
     "output_type": "stream",
     "text": [
      "Input:\n",
      "Enter the list of words: saritha,kola,hareesh,v,sahanya\n",
      "Enter your number: 6\n",
      "\n",
      " Output:\n",
      "\n",
      " The List of words that are longer than 6 is :\n"
     ]
    },
    {
     "data": {
      "text/plain": [
       "['saritha', 'hareesh', 'sahanya']"
      ]
     },
     "execution_count": 7,
     "metadata": {},
     "output_type": "execute_result"
    }
   ],
   "source": [
    "def filter_long_words(Wordlist,n):\n",
    "    Wordlist=[x.strip() for x in Wordlist if len(x.strip())>n]\n",
    "    \n",
    "    if(len(Wordlist)>0):\n",
    "        print(\"\\n Output:\")\n",
    "        print(\"\\n The List of words that are longer than \"+str(n)+\" is :\")\n",
    "        return Wordlist\n",
    "    else:\n",
    "        return \"No Words longer than specified number \"+str(n)\n",
    "    \n",
    "print(\"Input:\")\n",
    "string= input(\"Enter the list of words: \")\n",
    "number= int(input(\"Enter your number: \"))\n",
    "\n",
    "list_Of_Words = list(string.split(\",\"))\n",
    "filter_long_words(list_Of_Words,number)"
   ]
  },
  {
   "cell_type": "markdown",
   "metadata": {},
   "source": [
    "#### Q2.1 Write a Python program using function concept that maps list of words into a list of integers representing the lengths of the corresponding words . Hint: If a list [ ab,cde,erty] is passed on to the python function output should come as [2,3,4] Here 2,3 and 4 are the lengths of the words in the list."
   ]
  },
  {
   "cell_type": "code",
   "execution_count": 8,
   "metadata": {},
   "outputs": [
    {
     "name": "stdout",
     "output_type": "stream",
     "text": [
      "Input :Enter the list of Words : aaa,bbbbb,cccccc\n",
      "Output: Length of the Words are : [3, 5, 6]\n"
     ]
    }
   ],
   "source": [
    "def map_Words_to_Length(List):\n",
    "    return list(map(len, List))\n",
    "\n",
    "word_List=list(input(\"Input :Enter the list of Words : \").split(\",\"))\n",
    "\n",
    "List=[x.strip() for x in word_List]\n",
    "\n",
    "Words_lengths=map_Words_to_Length(List)\n",
    "\n",
    "print(\"Output: Length of the Words are :\",Words_lengths )"
   ]
  },
  {
   "cell_type": "markdown",
   "metadata": {},
   "source": [
    "#### Q2.2 Write a Python function which takes a character (i.e. a string of length 1) and returns True if it is a vowel, False otherwise."
   ]
  },
  {
   "cell_type": "code",
   "execution_count": 9,
   "metadata": {},
   "outputs": [
    {
     "name": "stdout",
     "output_type": "stream",
     "text": [
      "Enter one character to check that it is Vowel or not\n",
      "input character is : i\n",
      "Output is : True\n"
     ]
    }
   ],
   "source": [
    "def vowel_check(n):\n",
    "    return_value=''\n",
    "    if(len(n)==1):\n",
    "        vowel_list=['a','e','i','o','u']\n",
    "        if (n.lower() in vowel_list):\n",
    "            return_value = True\n",
    "        else:\n",
    "            return_value = False\n",
    "    else:\n",
    "        return_value=\"Please enter single character only!\"        \n",
    "    return return_value\n",
    "\n",
    "\n",
    "print(\"Enter one character to check that it is Vowel or not\")\n",
    "input_value = input(\"input character is : \")\n",
    "\n",
    "output_value=vowel_check(input_value) \n",
    "\n",
    "print(\"Output is :\",output_value)"
   ]
  },
  {
   "cell_type": "code",
   "execution_count": null,
   "metadata": {},
   "outputs": [],
   "source": []
  }
 ],
 "metadata": {
  "kernelspec": {
   "display_name": "Python 3",
   "language": "python",
   "name": "python3"
  },
  "language_info": {
   "codemirror_mode": {
    "name": "ipython",
    "version": 3
   },
   "file_extension": ".py",
   "mimetype": "text/x-python",
   "name": "python",
   "nbconvert_exporter": "python",
   "pygments_lexer": "ipython3",
   "version": "3.8.3"
  }
 },
 "nbformat": 4,
 "nbformat_minor": 4
}
