{
 "cells": [
  {
   "cell_type": "markdown",
   "metadata": {},
   "source": [
    "#### Q1) Write a function to compute 5/0 and use try/except to catch the exceptions."
   ]
  },
  {
   "cell_type": "code",
   "execution_count": 11,
   "metadata": {},
   "outputs": [
    {
     "name": "stdout",
     "output_type": "stream",
     "text": [
      "Enter the first number: 5\n",
      "Enter the second number: 0\n",
      "Undefined\n"
     ]
    }
   ],
   "source": [
    "def func():\n",
    "    try:\n",
    "        x = int(input('Enter the first number: '))\n",
    "        y = int(input('Enter the second number: '))\n",
    "        return x/y\n",
    "    except ValueError:\n",
    "        print(\"Enter only integers\")\n",
    "    except ZeroDivisionError:\n",
    "        print(\"Undefined\")\n",
    "        \n",
    "func()"
   ]
  },
  {
   "cell_type": "markdown",
   "metadata": {},
   "source": [
    "#### Q2) Implement a Python program to generate all sentences where subject is in [\"Americans\", \"Indians\"] and verb is in [\"Play\", \"watch\"] and the object is in [\"Baseball\",\"cricket\"]. Hint: Subject,Verb and Object should be declared in the program as shown below.\n",
    "#### subjects=[\"Americans\",\"Indians\"]\n",
    "#### verbs=[\"play\",\"watch\"]\n",
    "#### objects=[\"baseball\",\"cricket\"]"
   ]
  },
  {
   "cell_type": "code",
   "execution_count": 3,
   "metadata": {},
   "outputs": [
    {
     "name": "stdout",
     "output_type": "stream",
     "text": [
      "Americans play Baseball\n",
      "Americans play Cricket\n",
      "Americans watch Baseball\n",
      "Americans watch Cricket\n",
      "Indians play Baseball\n",
      "Indians play Cricket\n",
      "Indians watch Baseball\n",
      "Indians watch Cricket\n"
     ]
    }
   ],
   "source": [
    "subjects=[\"Americans\", \"Indians\"]\n",
    "verbs=[\"play\", \"watch\"]\n",
    "objects=[\"Baseball\",\"Cricket\"]\n",
    "\n",
    "# Using list comprehension\n",
    "sentence_list = [(sub+\" \"+ vrb + \" \" + obj) for sub in subjects for vrb in verbs for obj in objects]\n",
    "for sentence in sentence_list:\n",
    " print (sentence)"
   ]
  },
  {
   "cell_type": "code",
   "execution_count": null,
   "metadata": {},
   "outputs": [],
   "source": []
  }
 ],
 "metadata": {
  "kernelspec": {
   "display_name": "Python 3",
   "language": "python",
   "name": "python3"
  },
  "language_info": {
   "codemirror_mode": {
    "name": "ipython",
    "version": 3
   },
   "file_extension": ".py",
   "mimetype": "text/x-python",
   "name": "python",
   "nbconvert_exporter": "python",
   "pygments_lexer": "ipython3",
   "version": "3.8.3"
  }
 },
 "nbformat": 4,
 "nbformat_minor": 4
}
