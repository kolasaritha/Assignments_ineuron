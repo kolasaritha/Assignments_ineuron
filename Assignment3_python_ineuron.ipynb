{
 "cells": [
  {
   "cell_type": "markdown",
   "metadata": {},
   "source": [
    "### Q 1.1) Write a python program for implement your own myreduce() function which works exactly python builtin function reduce()."
   ]
  },
  {
   "cell_type": "code",
   "execution_count": 4,
   "metadata": {},
   "outputs": [
    {
     "name": "stdout",
     "output_type": "stream",
     "text": [
      "please enter the n value :10\n",
      "List of n natural numbers : [1, 2, 3, 4, 5, 6, 7, 8, 9, 10]\n",
      "Sum of n numbers : 55\n"
     ]
    }
   ],
   "source": [
    "# Sum of n natural numbers by using myreduce() function\n",
    "\n",
    "def myreduce(n):\n",
    "    n_numbers=list(range(1,n+1))\n",
    "    sum_n_numbers=0\n",
    "    \n",
    "    for i in n_numbers:\n",
    "        sum_n_numbers+=i\n",
    "    return n_numbers,sum_n_numbers\n",
    "\n",
    "n=int(input(\"please enter the n value :\"))#input value\n",
    "output=myreduce(n)\n",
    "print(\"List of n natural numbers :\",output[0])\n",
    "print('Sum of n numbers :',output[1])"
   ]
  },
  {
   "cell_type": "code",
   "execution_count": 5,
   "metadata": {},
   "outputs": [
    {
     "name": "stdout",
     "output_type": "stream",
     "text": [
      "please enter the n value :10\n",
      "List of n natural numbers : [1, 2, 3, 4, 5, 6, 7, 8, 9, 10]\n",
      "Sum of n numbers : 55\n"
     ]
    }
   ],
   "source": [
    "# Sum of n numbers by using python in_buily function reduce()\n",
    "n=int(input(\"please enter the n value :\"))\n",
    "n_numbers=list(range(1,n+1))\n",
    "\n",
    "from functools import reduce\n",
    "sum_n_numbers=reduce((lambda x,y:x+y),n_numbers)\n",
    "print(\"List of n natural numbers :\",n_numbers)\n",
    "print('Sum of n numbers :',sum_n_numbers)"
   ]
  },
  {
   "cell_type": "markdown",
   "metadata": {},
   "source": [
    "### Q 1.2) Write a python program for implement your own myfilter() function which works exactly python builtin function filter()."
   ]
  },
  {
   "cell_type": "code",
   "execution_count": 10,
   "metadata": {},
   "outputs": [
    {
     "name": "stdout",
     "output_type": "stream",
     "text": [
      "Please enter the value: 20\n",
      "List of n numbers : [1, 2, 3, 4, 5, 6, 7, 8, 9, 10, 11, 12, 13, 14, 15, 16, 17, 18, 19, 20]\n",
      "List of Even numbers which are multiply by 5 are: [10, 20]\n",
      "List of Odd numbers which are multiply by 5 are : [5, 15]\n"
     ]
    }
   ],
   "source": [
    "# filter the even & odd numbers from the given list & multiply by 5 by using myfilter() function\n",
    "n=int(input(\"Please enter the value: \"))\n",
    "n_numbers=list(range(1,n+1))\n",
    "\n",
    "def myfilter(n_numbers):\n",
    "    Even_numbers=[]\n",
    "    Odd_numbers=[]\n",
    "    \n",
    "    for i in n_numbers:\n",
    "        if(i%5==0):\n",
    "            if(i%2==0):\n",
    "                Even_numbers.append(i)\n",
    "            else:\n",
    "                Odd_numbers.append(i)\n",
    "    return Even_numbers,Odd_numbers\n",
    "output=myfilter(n_numbers)\n",
    "print(\"List of n numbers :\", n_numbers)\n",
    "print(\"List of Even numbers which are multiply by 5 are:\",output[0])\n",
    "print(\"List of Odd numbers which are multiply by 5 are :\", output[1])"
   ]
  },
  {
   "cell_type": "markdown",
   "metadata": {},
   "source": [
    "#### Q2)Implement List comprehensions to produce the following lists. \n",
    "#### Write List comprehensions to produce the following Lists ['A', 'C', 'A', 'D', 'G', 'I', ’L’, ‘ D’] ['x', 'xx', 'xxx', 'xxxx', 'y', 'yy', 'yyy', 'yyyy', 'z', 'zz', 'zzz', 'zzzz'] ['x', 'y', 'z', 'xx', 'yy', 'zz', 'xx', 'yy', 'zz', 'xxxx', 'yyyy', 'zzzz'] [[2], [3], [4], [3], [4], [5], [4], [5], [6]] [[2, 3, 4, 5], [3, 4, 5, 6], [4, 5, 6, 7], [5, 6, 7, 8]] [(1, 1), (2, 1), (3, 1), (1, 2), (2, 2), (3, 2), (1, 3), (2, 3), (3, 3)]"
   ]
  },
  {
   "cell_type": "code",
   "execution_count": 1,
   "metadata": {},
   "outputs": [
    {
     "name": "stdout",
     "output_type": "stream",
     "text": [
      "Output:\n",
      "['A', 'C', 'A', 'D', 'G', 'I', 'L', 'D']\n"
     ]
    }
   ],
   "source": [
    "word=\"AcadGild\"\n",
    "list1=[w.upper() for w in list(word)]\n",
    "print(\"Output:\")\n",
    "print(list1)"
   ]
  },
  {
   "cell_type": "code",
   "execution_count": 2,
   "metadata": {},
   "outputs": [
    {
     "name": "stdout",
     "output_type": "stream",
     "text": [
      "['x', 'xx', 'xxx', 'xxxx', 'y', 'yy', 'yyy', 'yyyy', 'z', 'zz', 'zzz', 'zzzz']\n"
     ]
    }
   ],
   "source": [
    "word_1=list('xyz')\n",
    "word_2=[x*n for x in word_1 for n in range(1,5) ]\n",
    "print(word_2)"
   ]
  },
  {
   "cell_type": "code",
   "execution_count": 3,
   "metadata": {},
   "outputs": [
    {
     "name": "stdout",
     "output_type": "stream",
     "text": [
      "['x', 'y', 'z', 'xx', 'yy', 'zz', 'xxx', 'yyy', 'zzz', 'xxxx', 'yyyy', 'zzzz']\n"
     ]
    }
   ],
   "source": [
    "word_3=[x*n for n in range(1,5) for x in word_1 ]\n",
    "print(word_3)"
   ]
  },
  {
   "cell_type": "code",
   "execution_count": 4,
   "metadata": {},
   "outputs": [
    {
     "name": "stdout",
     "output_type": "stream",
     "text": [
      "[[2], [3], [4], [3], [4], [5], [4], [5], [6]]\n"
     ]
    }
   ],
   "source": [
    "number=[2,3,4]\n",
    "number_1=[[x+n] for x in number for n in range(0,3)]\n",
    "print(number_1)"
   ]
  },
  {
   "cell_type": "code",
   "execution_count": 5,
   "metadata": {},
   "outputs": [
    {
     "name": "stdout",
     "output_type": "stream",
     "text": [
      "[[2, 3, 4, 5], [3, 4, 5, 6], [4, 5, 6, 7], [5, 6, 7, 8]]\n"
     ]
    }
   ],
   "source": [
    "number_2=[2,3,4,5]\n",
    "number_3=[[x+n for n in range(0,4)] for x in number_2 ]\n",
    "print(number_3)"
   ]
  },
  {
   "cell_type": "code",
   "execution_count": 6,
   "metadata": {},
   "outputs": [
    {
     "name": "stdout",
     "output_type": "stream",
     "text": [
      "[(1, 1), (2, 1), (3, 1), (1, 2), (2, 2), (3, 2), (1, 3), (2, 3), (3, 3)]\n"
     ]
    }
   ],
   "source": [
    "number_4=[1,2,3]\n",
    "number_5= [(b,a) for a in number_4 for b in number_4]\n",
    "print(number_5)"
   ]
  },
  {
   "cell_type": "code",
   "execution_count": null,
   "metadata": {},
   "outputs": [],
   "source": []
  }
 ],
 "metadata": {
  "kernelspec": {
   "display_name": "Python 3",
   "language": "python",
   "name": "python3"
  },
  "language_info": {
   "codemirror_mode": {
    "name": "ipython",
    "version": 3
   },
   "file_extension": ".py",
   "mimetype": "text/x-python",
   "name": "python",
   "nbconvert_exporter": "python",
   "pygments_lexer": "ipython3",
   "version": "3.8.3"
  }
 },
 "nbformat": 4,
 "nbformat_minor": 4
}
